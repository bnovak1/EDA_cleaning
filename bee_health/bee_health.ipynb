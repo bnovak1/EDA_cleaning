{
 "cells": [
  {
   "cell_type": "code",
   "execution_count": 1,
   "metadata": {},
   "outputs": [],
   "source": [
    "import pandas as pd\n",
    "import matplotlib.pyplot as plt\n",
    "import numpy as np\n",
    "import seaborn as sns"
   ]
  },
  {
   "attachments": {},
   "cell_type": "markdown",
   "metadata": {},
   "source": [
    "## Honey Bee Health Data"
   ]
  },
  {
   "cell_type": "code",
   "execution_count": 2,
   "metadata": {},
   "outputs": [
    {
     "data": {
      "text/html": [
       "<div>\n",
       "<style scoped>\n",
       "    .dataframe tbody tr th:only-of-type {\n",
       "        vertical-align: middle;\n",
       "    }\n",
       "\n",
       "    .dataframe tbody tr th {\n",
       "        vertical-align: top;\n",
       "    }\n",
       "\n",
       "    .dataframe thead th {\n",
       "        text-align: right;\n",
       "    }\n",
       "</style>\n",
       "<table border=\"1\" class=\"dataframe\">\n",
       "  <thead>\n",
       "    <tr style=\"text-align: right;\">\n",
       "      <th></th>\n",
       "      <th>file</th>\n",
       "      <th>date</th>\n",
       "      <th>time</th>\n",
       "      <th>location</th>\n",
       "      <th>zip code</th>\n",
       "      <th>subspecies</th>\n",
       "      <th>health</th>\n",
       "      <th>pollen_carrying</th>\n",
       "      <th>caste</th>\n",
       "    </tr>\n",
       "  </thead>\n",
       "  <tbody>\n",
       "    <tr>\n",
       "      <th>0</th>\n",
       "      <td>041_066.png</td>\n",
       "      <td>8/28/18</td>\n",
       "      <td>16:07</td>\n",
       "      <td>Alvin, TX, USA</td>\n",
       "      <td>77511</td>\n",
       "      <td>-1</td>\n",
       "      <td>hive being robbed</td>\n",
       "      <td>False</td>\n",
       "      <td>worker</td>\n",
       "    </tr>\n",
       "    <tr>\n",
       "      <th>1</th>\n",
       "      <td>041_072.png</td>\n",
       "      <td>8/28/18</td>\n",
       "      <td>16:07</td>\n",
       "      <td>Alvin, TX, USA</td>\n",
       "      <td>77511</td>\n",
       "      <td>-1</td>\n",
       "      <td>hive being robbed</td>\n",
       "      <td>False</td>\n",
       "      <td>worker</td>\n",
       "    </tr>\n",
       "    <tr>\n",
       "      <th>2</th>\n",
       "      <td>041_073.png</td>\n",
       "      <td>8/28/18</td>\n",
       "      <td>16:07</td>\n",
       "      <td>Alvin, TX, USA</td>\n",
       "      <td>77511</td>\n",
       "      <td>-1</td>\n",
       "      <td>hive being robbed</td>\n",
       "      <td>False</td>\n",
       "      <td>worker</td>\n",
       "    </tr>\n",
       "    <tr>\n",
       "      <th>3</th>\n",
       "      <td>041_067.png</td>\n",
       "      <td>8/28/18</td>\n",
       "      <td>16:07</td>\n",
       "      <td>Alvin, TX, USA</td>\n",
       "      <td>77511</td>\n",
       "      <td>-1</td>\n",
       "      <td>hive being robbed</td>\n",
       "      <td>False</td>\n",
       "      <td>worker</td>\n",
       "    </tr>\n",
       "    <tr>\n",
       "      <th>4</th>\n",
       "      <td>041_059.png</td>\n",
       "      <td>8/28/18</td>\n",
       "      <td>16:07</td>\n",
       "      <td>Alvin, TX, USA</td>\n",
       "      <td>77511</td>\n",
       "      <td>-1</td>\n",
       "      <td>hive being robbed</td>\n",
       "      <td>False</td>\n",
       "      <td>worker</td>\n",
       "    </tr>\n",
       "    <tr>\n",
       "      <th>...</th>\n",
       "      <td>...</td>\n",
       "      <td>...</td>\n",
       "      <td>...</td>\n",
       "      <td>...</td>\n",
       "      <td>...</td>\n",
       "      <td>...</td>\n",
       "      <td>...</td>\n",
       "      <td>...</td>\n",
       "      <td>...</td>\n",
       "    </tr>\n",
       "    <tr>\n",
       "      <th>5167</th>\n",
       "      <td>027_011.png</td>\n",
       "      <td>8/20/18</td>\n",
       "      <td>10:03</td>\n",
       "      <td>San Jose, CA, USA</td>\n",
       "      <td>95124</td>\n",
       "      <td>-1</td>\n",
       "      <td>healthy</td>\n",
       "      <td>True</td>\n",
       "      <td>worker</td>\n",
       "    </tr>\n",
       "    <tr>\n",
       "      <th>5168</th>\n",
       "      <td>027_007.png</td>\n",
       "      <td>8/20/18</td>\n",
       "      <td>10:03</td>\n",
       "      <td>San Jose, CA, USA</td>\n",
       "      <td>95124</td>\n",
       "      <td>-1</td>\n",
       "      <td>healthy</td>\n",
       "      <td>True</td>\n",
       "      <td>worker</td>\n",
       "    </tr>\n",
       "    <tr>\n",
       "      <th>5169</th>\n",
       "      <td>027_013.png</td>\n",
       "      <td>8/20/18</td>\n",
       "      <td>10:03</td>\n",
       "      <td>San Jose, CA, USA</td>\n",
       "      <td>95124</td>\n",
       "      <td>-1</td>\n",
       "      <td>healthy</td>\n",
       "      <td>False</td>\n",
       "      <td>worker</td>\n",
       "    </tr>\n",
       "    <tr>\n",
       "      <th>5170</th>\n",
       "      <td>027_012.png</td>\n",
       "      <td>8/20/18</td>\n",
       "      <td>10:03</td>\n",
       "      <td>San Jose, CA, USA</td>\n",
       "      <td>95124</td>\n",
       "      <td>-1</td>\n",
       "      <td>healthy</td>\n",
       "      <td>False</td>\n",
       "      <td>worker</td>\n",
       "    </tr>\n",
       "    <tr>\n",
       "      <th>5171</th>\n",
       "      <td>027_014.png</td>\n",
       "      <td>8/20/18</td>\n",
       "      <td>10:03</td>\n",
       "      <td>San Jose, CA, USA</td>\n",
       "      <td>95124</td>\n",
       "      <td>-1</td>\n",
       "      <td>healthy</td>\n",
       "      <td>False</td>\n",
       "      <td>worker</td>\n",
       "    </tr>\n",
       "  </tbody>\n",
       "</table>\n",
       "<p>5172 rows × 9 columns</p>\n",
       "</div>"
      ],
      "text/plain": [
       "             file     date   time           location  zip code subspecies  \\\n",
       "0     041_066.png  8/28/18  16:07     Alvin, TX, USA     77511         -1   \n",
       "1     041_072.png  8/28/18  16:07     Alvin, TX, USA     77511         -1   \n",
       "2     041_073.png  8/28/18  16:07     Alvin, TX, USA     77511         -1   \n",
       "3     041_067.png  8/28/18  16:07     Alvin, TX, USA     77511         -1   \n",
       "4     041_059.png  8/28/18  16:07     Alvin, TX, USA     77511         -1   \n",
       "...           ...      ...    ...                ...       ...        ...   \n",
       "5167  027_011.png  8/20/18  10:03  San Jose, CA, USA     95124         -1   \n",
       "5168  027_007.png  8/20/18  10:03  San Jose, CA, USA     95124         -1   \n",
       "5169  027_013.png  8/20/18  10:03  San Jose, CA, USA     95124         -1   \n",
       "5170  027_012.png  8/20/18  10:03  San Jose, CA, USA     95124         -1   \n",
       "5171  027_014.png  8/20/18  10:03  San Jose, CA, USA     95124         -1   \n",
       "\n",
       "                 health  pollen_carrying   caste  \n",
       "0     hive being robbed            False  worker  \n",
       "1     hive being robbed            False  worker  \n",
       "2     hive being robbed            False  worker  \n",
       "3     hive being robbed            False  worker  \n",
       "4     hive being robbed            False  worker  \n",
       "...                 ...              ...     ...  \n",
       "5167            healthy             True  worker  \n",
       "5168            healthy             True  worker  \n",
       "5169            healthy            False  worker  \n",
       "5170            healthy            False  worker  \n",
       "5171            healthy            False  worker  \n",
       "\n",
       "[5172 rows x 9 columns]"
      ]
     },
     "execution_count": 2,
     "metadata": {},
     "output_type": "execute_result"
    }
   ],
   "source": [
    "bees = pd.read_csv(\"data/bee_data.csv\")\n",
    "bees"
   ]
  },
  {
   "attachments": {},
   "cell_type": "markdown",
   "metadata": {},
   "source": [
    "The data consists of pictures of bees (which are not here, but the same data set including the pictures seems to be [here](https://www.kaggle.com/datasets/jenny18/honey-bee-annotated-images)) and a CSV file containing the time each picture was taken, the location, the subspecies of the bee in each picture, whether the bee was carrying pollen or not, the caste (worker, drone, queen) of the bee in each picture, and the health status of the bee in each picture."
   ]
  },
  {
   "attachments": {},
   "cell_type": "markdown",
   "metadata": {},
   "source": [
    "### Visualize and Summarize"
   ]
  },
  {
   "attachments": {},
   "cell_type": "markdown",
   "metadata": {},
   "source": [
    "#### Missing data"
   ]
  },
  {
   "attachments": {},
   "cell_type": "markdown",
   "metadata": {},
   "source": [
    "Initially, there don't appear to be any missing values."
   ]
  },
  {
   "cell_type": "code",
   "execution_count": 3,
   "metadata": {},
   "outputs": [
    {
     "name": "stdout",
     "output_type": "stream",
     "text": [
      "<class 'pandas.core.frame.DataFrame'>\n",
      "RangeIndex: 5172 entries, 0 to 5171\n",
      "Data columns (total 9 columns):\n",
      " #   Column           Non-Null Count  Dtype \n",
      "---  ------           --------------  ----- \n",
      " 0   file             5172 non-null   object\n",
      " 1   date             5172 non-null   object\n",
      " 2   time             5172 non-null   object\n",
      " 3   location         5172 non-null   object\n",
      " 4   zip code         5172 non-null   int64 \n",
      " 5   subspecies       5172 non-null   object\n",
      " 6   health           5172 non-null   object\n",
      " 7   pollen_carrying  5172 non-null   bool  \n",
      " 8   caste            5172 non-null   object\n",
      "dtypes: bool(1), int64(1), object(7)\n",
      "memory usage: 328.4+ KB\n"
     ]
    }
   ],
   "source": [
    "bees.info()"
   ]
  },
  {
   "attachments": {},
   "cell_type": "markdown",
   "metadata": {},
   "source": [
    "#### Combine date and time columns"
   ]
  },
  {
   "cell_type": "code",
   "execution_count": 4,
   "metadata": {},
   "outputs": [
    {
     "data": {
      "text/html": [
       "<div>\n",
       "<style scoped>\n",
       "    .dataframe tbody tr th:only-of-type {\n",
       "        vertical-align: middle;\n",
       "    }\n",
       "\n",
       "    .dataframe tbody tr th {\n",
       "        vertical-align: top;\n",
       "    }\n",
       "\n",
       "    .dataframe thead th {\n",
       "        text-align: right;\n",
       "    }\n",
       "</style>\n",
       "<table border=\"1\" class=\"dataframe\">\n",
       "  <thead>\n",
       "    <tr style=\"text-align: right;\">\n",
       "      <th></th>\n",
       "      <th>file</th>\n",
       "      <th>location</th>\n",
       "      <th>zip code</th>\n",
       "      <th>subspecies</th>\n",
       "      <th>health</th>\n",
       "      <th>pollen_carrying</th>\n",
       "      <th>caste</th>\n",
       "      <th>time</th>\n",
       "    </tr>\n",
       "  </thead>\n",
       "  <tbody>\n",
       "    <tr>\n",
       "      <th>0</th>\n",
       "      <td>041_066.png</td>\n",
       "      <td>Alvin, TX, USA</td>\n",
       "      <td>77511</td>\n",
       "      <td>-1</td>\n",
       "      <td>hive being robbed</td>\n",
       "      <td>False</td>\n",
       "      <td>worker</td>\n",
       "      <td>2018-08-28 16:07:00</td>\n",
       "    </tr>\n",
       "    <tr>\n",
       "      <th>1</th>\n",
       "      <td>041_072.png</td>\n",
       "      <td>Alvin, TX, USA</td>\n",
       "      <td>77511</td>\n",
       "      <td>-1</td>\n",
       "      <td>hive being robbed</td>\n",
       "      <td>False</td>\n",
       "      <td>worker</td>\n",
       "      <td>2018-08-28 16:07:00</td>\n",
       "    </tr>\n",
       "    <tr>\n",
       "      <th>2</th>\n",
       "      <td>041_073.png</td>\n",
       "      <td>Alvin, TX, USA</td>\n",
       "      <td>77511</td>\n",
       "      <td>-1</td>\n",
       "      <td>hive being robbed</td>\n",
       "      <td>False</td>\n",
       "      <td>worker</td>\n",
       "      <td>2018-08-28 16:07:00</td>\n",
       "    </tr>\n",
       "    <tr>\n",
       "      <th>3</th>\n",
       "      <td>041_067.png</td>\n",
       "      <td>Alvin, TX, USA</td>\n",
       "      <td>77511</td>\n",
       "      <td>-1</td>\n",
       "      <td>hive being robbed</td>\n",
       "      <td>False</td>\n",
       "      <td>worker</td>\n",
       "      <td>2018-08-28 16:07:00</td>\n",
       "    </tr>\n",
       "    <tr>\n",
       "      <th>4</th>\n",
       "      <td>041_059.png</td>\n",
       "      <td>Alvin, TX, USA</td>\n",
       "      <td>77511</td>\n",
       "      <td>-1</td>\n",
       "      <td>hive being robbed</td>\n",
       "      <td>False</td>\n",
       "      <td>worker</td>\n",
       "      <td>2018-08-28 16:07:00</td>\n",
       "    </tr>\n",
       "    <tr>\n",
       "      <th>...</th>\n",
       "      <td>...</td>\n",
       "      <td>...</td>\n",
       "      <td>...</td>\n",
       "      <td>...</td>\n",
       "      <td>...</td>\n",
       "      <td>...</td>\n",
       "      <td>...</td>\n",
       "      <td>...</td>\n",
       "    </tr>\n",
       "    <tr>\n",
       "      <th>5167</th>\n",
       "      <td>027_011.png</td>\n",
       "      <td>San Jose, CA, USA</td>\n",
       "      <td>95124</td>\n",
       "      <td>-1</td>\n",
       "      <td>healthy</td>\n",
       "      <td>True</td>\n",
       "      <td>worker</td>\n",
       "      <td>2018-08-20 10:03:00</td>\n",
       "    </tr>\n",
       "    <tr>\n",
       "      <th>5168</th>\n",
       "      <td>027_007.png</td>\n",
       "      <td>San Jose, CA, USA</td>\n",
       "      <td>95124</td>\n",
       "      <td>-1</td>\n",
       "      <td>healthy</td>\n",
       "      <td>True</td>\n",
       "      <td>worker</td>\n",
       "      <td>2018-08-20 10:03:00</td>\n",
       "    </tr>\n",
       "    <tr>\n",
       "      <th>5169</th>\n",
       "      <td>027_013.png</td>\n",
       "      <td>San Jose, CA, USA</td>\n",
       "      <td>95124</td>\n",
       "      <td>-1</td>\n",
       "      <td>healthy</td>\n",
       "      <td>False</td>\n",
       "      <td>worker</td>\n",
       "      <td>2018-08-20 10:03:00</td>\n",
       "    </tr>\n",
       "    <tr>\n",
       "      <th>5170</th>\n",
       "      <td>027_012.png</td>\n",
       "      <td>San Jose, CA, USA</td>\n",
       "      <td>95124</td>\n",
       "      <td>-1</td>\n",
       "      <td>healthy</td>\n",
       "      <td>False</td>\n",
       "      <td>worker</td>\n",
       "      <td>2018-08-20 10:03:00</td>\n",
       "    </tr>\n",
       "    <tr>\n",
       "      <th>5171</th>\n",
       "      <td>027_014.png</td>\n",
       "      <td>San Jose, CA, USA</td>\n",
       "      <td>95124</td>\n",
       "      <td>-1</td>\n",
       "      <td>healthy</td>\n",
       "      <td>False</td>\n",
       "      <td>worker</td>\n",
       "      <td>2018-08-20 10:03:00</td>\n",
       "    </tr>\n",
       "  </tbody>\n",
       "</table>\n",
       "<p>5172 rows × 8 columns</p>\n",
       "</div>"
      ],
      "text/plain": [
       "             file           location  zip code subspecies             health  \\\n",
       "0     041_066.png     Alvin, TX, USA     77511         -1  hive being robbed   \n",
       "1     041_072.png     Alvin, TX, USA     77511         -1  hive being robbed   \n",
       "2     041_073.png     Alvin, TX, USA     77511         -1  hive being robbed   \n",
       "3     041_067.png     Alvin, TX, USA     77511         -1  hive being robbed   \n",
       "4     041_059.png     Alvin, TX, USA     77511         -1  hive being robbed   \n",
       "...           ...                ...       ...        ...                ...   \n",
       "5167  027_011.png  San Jose, CA, USA     95124         -1            healthy   \n",
       "5168  027_007.png  San Jose, CA, USA     95124         -1            healthy   \n",
       "5169  027_013.png  San Jose, CA, USA     95124         -1            healthy   \n",
       "5170  027_012.png  San Jose, CA, USA     95124         -1            healthy   \n",
       "5171  027_014.png  San Jose, CA, USA     95124         -1            healthy   \n",
       "\n",
       "      pollen_carrying   caste                time  \n",
       "0               False  worker 2018-08-28 16:07:00  \n",
       "1               False  worker 2018-08-28 16:07:00  \n",
       "2               False  worker 2018-08-28 16:07:00  \n",
       "3               False  worker 2018-08-28 16:07:00  \n",
       "4               False  worker 2018-08-28 16:07:00  \n",
       "...               ...     ...                 ...  \n",
       "5167             True  worker 2018-08-20 10:03:00  \n",
       "5168             True  worker 2018-08-20 10:03:00  \n",
       "5169            False  worker 2018-08-20 10:03:00  \n",
       "5170            False  worker 2018-08-20 10:03:00  \n",
       "5171            False  worker 2018-08-20 10:03:00  \n",
       "\n",
       "[5172 rows x 8 columns]"
      ]
     },
     "execution_count": 4,
     "metadata": {},
     "output_type": "execute_result"
    }
   ],
   "source": [
    "bees['datetime'] = pd.to_datetime(bees.date + ' ' + bees.time, format='%m/%d/%y %H:%M')\n",
    "bees.drop(['date', 'time'], axis=1, inplace=True)\n",
    "bees.rename(columns={'datetime': 'time'}, inplace=True)\n",
    "bees"
   ]
  },
  {
   "attachments": {},
   "cell_type": "markdown",
   "metadata": {},
   "source": [
    "#### Data collection dates and times"
   ]
  },
  {
   "attachments": {},
   "cell_type": "markdown",
   "metadata": {},
   "source": [
    "The data points were collected on 16 different days spanning 68 days during the summer of 2018. The number of points per day is widely distributed with a minimum of 23 and a maximum of 1080."
   ]
  },
  {
   "cell_type": "code",
   "execution_count": 5,
   "metadata": {},
   "outputs": [
    {
     "name": "stdout",
     "output_type": "stream",
     "text": [
      "Number of dates: 16\n",
      "Date range: 2018-07-02 to 2018-09-08\n",
      "Duration: 68 days\n",
      "Minimum number of points per day: 23 on 2018-09-08\n",
      "Maximum number of points per day: 1080 on 2018-08-21\n"
     ]
    },
    {
     "data": {
      "image/png": "[encoded data removed]",
      "text/plain": [
       "<Figure size 640x480 with 1 Axes>"
      ]
     },
     "metadata": {},
     "output_type": "display_data"
    }
   ],
   "source": [
    "# Date counts to dataframe\n",
    "date_counts = pd.DataFrame(bees.time.dt.date.value_counts())\n",
    "date_counts.sort_index(inplace=True)\n",
    "date_counts.reset_index(inplace=True)\n",
    "date_counts.rename(columns={'time': 'count', 'index': 'date'}, inplace=True)\n",
    "\n",
    "# Number of unique dates\n",
    "print('Number of dates:', len(date_counts))\n",
    "\n",
    "# Date range\n",
    "print('Date range:', date_counts['date'].iloc[0], 'to', date_counts['date'].iloc[-1])\n",
    "\n",
    "# Duration of data\n",
    "print('Duration:', (date_counts['date'].iloc[-1] - date_counts['date'].iloc[0]).days, 'days')\n",
    "\n",
    "# Minimum number of data points on days when data was collected\n",
    "ind = np.argmin(date_counts['count'])\n",
    "print('Minimum number of points per day:', \n",
    "      date_counts['count'].iloc[ind], \n",
    "      'on', \n",
    "      date_counts['date'].iloc[ind])\n",
    "\n",
    "# Maximum number of data points on days when data was collected\n",
    "ind = np.argmax(date_counts['count'])\n",
    "print('Maximum number of points per day:', \n",
    "      date_counts['count'].iloc[ind], \n",
    "      'on', \n",
    "      date_counts['date'].iloc[ind])\n",
    "\n",
    "# Bar plot of date counts\n",
    "date_counts.plot(kind='bar', x='date', y='count', xlabel='Date', ylabel='Count', legend=None);"
   ]
  },
  {
   "attachments": {},
   "cell_type": "markdown",
   "metadata": {},
   "source": [
    "Data were collected between the hours of 8 am and 10 pm. The most common periods were 12 pm to 2 pm and 3 pm to 4 pm."
   ]
  },
  {
   "cell_type": "code",
   "execution_count": 6,
   "metadata": {},
   "outputs": [
    {
     "data": {
      "image/png": "[encoded data removed]",
      "text/plain": [
       "<Figure size 640x480 with 1 Axes>"
      ]
     },
     "metadata": {},
     "output_type": "display_data"
    }
   ],
   "source": [
    "(bees.time.dt.hour + bees.time.dt.minute/60).hist(bins=np.arange(8, 23, 1))\n",
    "plt.xlabel('Hour of Day')\n",
    "plt.ylabel('Count');"
   ]
  },
  {
   "attachments": {},
   "cell_type": "markdown",
   "metadata": {},
   "source": [
    "#### Data collection locations"
   ]
  },
  {
   "attachments": {},
   "cell_type": "markdown",
   "metadata": {},
   "source": [
    "All 7 data locations were in the USA in 6 different states. The most data came from CA (Saratoga and San Jose), followed by GA (Athens), IA (Des Moines), TX (Alvin), and NH (Keene)."
   ]
  },
  {
   "cell_type": "code",
   "execution_count": 7,
   "metadata": {},
   "outputs": [
    {
     "name": "stdout",
     "output_type": "stream",
     "text": [
      "Number of locations: 7\n",
      "\n",
      "\n",
      "Saratoga, CA, USA       2000\n",
      "Athens, GA, USA         1051\n",
      "Des Moines, IA, USA      973\n",
      "Alvin, TX, USA           737\n",
      "New Orleans, LA, USA     170\n",
      "San Jose, CA, USA        149\n",
      "Keene, NH, USA            92\n",
      "Name: location, dtype: int64\n"
     ]
    }
   ],
   "source": [
    "# Some Georgia locations use \"Georgia\", standardize to \"GA\". Convert to category type.\n",
    "bees['location'] = bees['location'].str.replace('Georgia', 'GA').astype('category')\n",
    "\n",
    "# Location counts\n",
    "location_counts = bees['location'].value_counts()\n",
    "print('Number of locations:', len(location_counts))\n",
    "print('\\n')\n",
    "print(location_counts)"
   ]
  },
  {
   "cell_type": "code",
   "execution_count": 8,
   "metadata": {},
   "outputs": [
    {
     "name": "stdout",
     "output_type": "stream",
     "text": [
      "Number of states: 6\n",
      "\n",
      "\n",
      " CA    2149\n",
      " GA    1051\n",
      " IA     973\n",
      " TX     737\n",
      " LA     170\n",
      " NH      92\n",
      "Name: state, dtype: int64\n"
     ]
    }
   ],
   "source": [
    "# Extract states from locations\n",
    "bees['state'] = bees['location'].str.split(',').str[1].astype('category')\n",
    "\n",
    "# State counts\n",
    "state_counts = bees['state'].value_counts()\n",
    "print('Number of states:', len(state_counts))\n",
    "print('\\n')\n",
    "print(state_counts)"
   ]
  },
  {
   "attachments": {},
   "cell_type": "markdown",
   "metadata": {},
   "source": [
    "#### Bee subspecies"
   ]
  },
  {
   "attachments": {},
   "cell_type": "markdown",
   "metadata": {},
   "source": [
    "There are 428 data points with a subpecies of -1 which probably means unknown or unrecorded. The 472 data points with a subspecies of \"1 Mixed local stock 2\" likely means that there was a mixture of subspecies in the hive. A description of the data is needed to verify these assumptions. If the assumptions are correct, then 17.4% of the data has an unidentified subpecies and these should either be considered missing values or the pictures with an unknown subspecies might possibly be predicted using a model trained on the pictures with known subspecies."
   ]
  },
  {
   "cell_type": "code",
   "execution_count": 9,
   "metadata": {},
   "outputs": [
    {
     "name": "stdout",
     "output_type": "stream",
     "text": [
      "Italian honey bee        3008\n",
      "Russian honey bee         527\n",
      "Carniolan honey bee       501\n",
      "1 Mixed local stock 2     472\n",
      "-1                        428\n",
      "VSH Italian honey bee     199\n",
      "Western honey bee          37\n",
      "Name: subspecies, dtype: int64\n"
     ]
    },
    {
     "data": {
      "image/png": "[encoded data removed]",
      "text/plain": [
       "<Figure size 640x480 with 1 Axes>"
      ]
     },
     "metadata": {},
     "output_type": "display_data"
    }
   ],
   "source": [
    "# Convert to category type\n",
    "bees['subspecies'] = bees['subspecies'].astype('category')      \n",
    "\n",
    "# Subspecies counts\n",
    "subspecies_counts = bees.subspecies.value_counts()\n",
    "print(subspecies_counts)\n",
    "\n",
    "# Histogram of subspecies counts\n",
    "plt.xticks(rotation=90)\n",
    "sns.histplot(bees.subspecies);"
   ]
  },
  {
   "cell_type": "code",
   "execution_count": 10,
   "metadata": {},
   "outputs": [
    {
     "data": {
      "text/plain": [
       "0.1740139211136891"
      ]
     },
     "execution_count": 10,
     "metadata": {},
     "output_type": "execute_result"
    }
   ],
   "source": [
    "# Fraction of pictures with subspecies likely unknown\n",
    "(np.sum(bees.subspecies == '-1') + np.sum(bees.subspecies == '1 Mixed local stock 2'))/bees.shape[0]"
   ]
  },
  {
   "attachments": {},
   "cell_type": "markdown",
   "metadata": {},
   "source": [
    "#### Pollen carrying"
   ]
  },
  {
   "attachments": {},
   "cell_type": "markdown",
   "metadata": {},
   "source": [
    "There are only 18 data points where the bee was carrying pollen, but 5154 data points where the bee was not carrying pollen."
   ]
  },
  {
   "cell_type": "code",
   "execution_count": 11,
   "metadata": {},
   "outputs": [
    {
     "name": "stdout",
     "output_type": "stream",
     "text": [
      "False    5154\n",
      "True       18\n",
      "Name: pollen_carrying, dtype: int64\n"
     ]
    }
   ],
   "source": [
    "# Convert to Boolean type\n",
    "bees['pollen_carrying'] = bees['pollen_carrying'].astype('bool')\n",
    "\n",
    "# Pollen carrying counts\n",
    "print(bees['pollen_carrying'].value_counts())"
   ]
  },
  {
   "attachments": {},
   "cell_type": "markdown",
   "metadata": {},
   "source": [
    "#### Bee health"
   ]
  },
  {
   "attachments": {},
   "cell_type": "markdown",
   "metadata": {},
   "source": [
    "There are 3384 pictures of healthy bees and 1788 of bees with health problems from 5 different categories. Without a description, some of the health categories are unclear. Does \"few varrao, hive beetles\" mean \"few varroa and few hive beetles\" or \"few varroa and a significant number of hive beetles\"? Does \"Small Hive Beetles\" mean that the beetles are small in size or that there are a small number of them. Should the \"few varrao, hive beetles\" and \"Varroa, Small Hive Beetles\" categories be combined?"
   ]
  },
  {
   "cell_type": "code",
   "execution_count": 12,
   "metadata": {},
   "outputs": [
    {
     "name": "stdout",
     "output_type": "stream",
     "text": [
      "Number of health categories: 6\n",
      "\n",
      "\n",
      "healthy                       3384\n",
      "few varrao, hive beetles       579\n",
      "Varroa, Small Hive Beetles     472\n",
      "ant problems                   457\n",
      "hive being robbed              251\n",
      "missing queen                   29\n",
      "Name: health, dtype: int64\n",
      "\n",
      "\n",
      "Number of pictures with unhealthy bees: 1788\n"
     ]
    }
   ],
   "source": [
    "# Convert to category type\n",
    "bees['health'] = bees['health'].astype('category')  \n",
    "\n",
    "# Health category counts\n",
    "health_counts = bees.health.value_counts()\n",
    "\n",
    "# Number of health categories\n",
    "print('Number of health categories:', len(health_counts))\n",
    "print('\\n')\n",
    "print(health_counts)\n",
    "\n",
    "# Number of pictures with unhealthy bees\n",
    "unhealthy_count = np.sum(bees.health != 'healthy')\n",
    "print('\\n')\n",
    "print('Number of pictures with unhealthy bees:', unhealthy_count)"
   ]
  },
  {
   "cell_type": "code",
   "execution_count": 13,
   "metadata": {},
   "outputs": [
    {
     "data": {
      "image/png": "[encoded data removed]",
      "text/plain": [
       "<Figure size 640x480 with 1 Axes>"
      ]
     },
     "metadata": {},
     "output_type": "display_data"
    }
   ],
   "source": [
    "# Histogram of health category counts\n",
    "plt.xticks(rotation=90)\n",
    "sns.histplot(bees['health']);"
   ]
  },
  {
   "attachments": {},
   "cell_type": "markdown",
   "metadata": {},
   "source": [
    "#### Bee caste"
   ]
  },
  {
   "attachments": {},
   "cell_type": "markdown",
   "metadata": {},
   "source": [
    "The pictures are all of worker bees."
   ]
  },
  {
   "cell_type": "code",
   "execution_count": 14,
   "metadata": {},
   "outputs": [
    {
     "data": {
      "text/plain": [
       "worker    5172\n",
       "Name: caste, dtype: int64"
      ]
     },
     "execution_count": 14,
     "metadata": {},
     "output_type": "execute_result"
    }
   ],
   "source": [
    "# Caste counts\n",
    "bees.caste.value_counts()"
   ]
  },
  {
   "attachments": {},
   "cell_type": "markdown",
   "metadata": {},
   "source": [
    "### Summary"
   ]
  },
  {
   "attachments": {},
   "cell_type": "markdown",
   "metadata": {},
   "source": [
    "- There are relatively few images and corresponding rows of data.\n",
    "- The data were collected in summer months of only one year (2018) during the day.\n",
    "- There are likely 17.4% missing values in subspecies.\n",
    "- Class imbalances\n",
    "  - location (minimum of 92 images from Keene, NH and maximum of 2000 from Saratoga, CA)\n",
    "  - subspecies (minimum of 37 images of Western honey bees and maximum of 3008 of Italian honey bees)\n",
    "  - pollen_carrying (18 images of bees carrying pollen and 5154 of bees not carrying pollen)\n",
    "  - health (minimum of 3384 images of healthy bees and maximum of 29 of bees with a missing queen)\n",
    "    - If the goal is just to predict health or unhealthy (combine all unhealthy categories into one), then the class imbalance would not be too bad."
   ]
  }
 ],
 "metadata": {
  "kernelspec": {
   "display_name": "small_data_udacity",
   "language": "python",
   "name": "python3"
  },
  "language_info": {
   "codemirror_mode": {
    "name": "ipython",
    "version": 3
   },
   "file_extension": ".py",
   "mimetype": "text/x-python",
   "name": "python",
   "nbconvert_exporter": "python",
   "pygments_lexer": "ipython3",
   "version": "3.11.4"
  },
  "orig_nbformat": 4
 },
 "nbformat": 4,
 "nbformat_minor": 2
}
