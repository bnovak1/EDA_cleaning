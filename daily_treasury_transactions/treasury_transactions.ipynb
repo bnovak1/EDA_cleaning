{
 "cells": [
  {
   "cell_type": "code",
   "execution_count": 15,
   "metadata": {},
   "outputs": [],
   "source": [
    "import calendar\n",
    "\n",
    "import matplotlib.pyplot as plt\n",
    "import numpy as np\n",
    "import pandas as pd\n",
    "import seaborn as sns"
   ]
  },
  {
   "attachments": {},
   "cell_type": "markdown",
   "metadata": {},
   "source": [
    "## Daily Treasury Data"
   ]
  },
  {
   "cell_type": "code",
   "execution_count": 16,
   "metadata": {},
   "outputs": [
    {
     "data": {
      "text/html": [
       "<div>\n",
       "<style scoped>\n",
       "    .dataframe tbody tr th:only-of-type {\n",
       "        vertical-align: middle;\n",
       "    }\n",
       "\n",
       "    .dataframe tbody tr th {\n",
       "        vertical-align: top;\n",
       "    }\n",
       "\n",
       "    .dataframe thead th {\n",
       "        text-align: right;\n",
       "    }\n",
       "</style>\n",
       "<table border=\"1\" class=\"dataframe\">\n",
       "  <thead>\n",
       "    <tr style=\"text-align: right;\">\n",
       "      <th></th>\n",
       "      <th>Record Date</th>\n",
       "      <th>Type of Account</th>\n",
       "      <th>Transaction Type</th>\n",
       "      <th>Transaction Category</th>\n",
       "      <th>Transaction Category Description</th>\n",
       "      <th>Transactions Today</th>\n",
       "      <th>Transactions Month to Date</th>\n",
       "      <th>Transactions Fiscal Year to Date</th>\n",
       "      <th>Table Number</th>\n",
       "      <th>Table Name</th>\n",
       "      <th>Source Line Number</th>\n",
       "      <th>Fiscal Year</th>\n",
       "      <th>Fiscal Quarter Number</th>\n",
       "      <th>Calendar Year</th>\n",
       "      <th>Calendar Quarter Number</th>\n",
       "      <th>Calendar Month Number</th>\n",
       "      <th>Calendar Day Number</th>\n",
       "    </tr>\n",
       "  </thead>\n",
       "  <tbody>\n",
       "    <tr>\n",
       "      <th>0</th>\n",
       "      <td>2023-04-12</td>\n",
       "      <td>Treasury General Account (TGA)</td>\n",
       "      <td>Deposits</td>\n",
       "      <td>Dept of Agriculture (USDA) - misc</td>\n",
       "      <td>NaN</td>\n",
       "      <td>13</td>\n",
       "      <td>107</td>\n",
       "      <td>1885</td>\n",
       "      <td>II</td>\n",
       "      <td>Deposits and Withdrawals of Operating Cash</td>\n",
       "      <td>1</td>\n",
       "      <td>2023</td>\n",
       "      <td>3</td>\n",
       "      <td>2023</td>\n",
       "      <td>2</td>\n",
       "      <td>4</td>\n",
       "      <td>12</td>\n",
       "    </tr>\n",
       "    <tr>\n",
       "      <th>1</th>\n",
       "      <td>2023-04-12</td>\n",
       "      <td>Treasury General Account (TGA)</td>\n",
       "      <td>Deposits</td>\n",
       "      <td>USDA - Commodity Credit Corporation</td>\n",
       "      <td>NaN</td>\n",
       "      <td>34</td>\n",
       "      <td>291</td>\n",
       "      <td>3950</td>\n",
       "      <td>II</td>\n",
       "      <td>Deposits and Withdrawals of Operating Cash</td>\n",
       "      <td>2</td>\n",
       "      <td>2023</td>\n",
       "      <td>3</td>\n",
       "      <td>2023</td>\n",
       "      <td>2</td>\n",
       "      <td>4</td>\n",
       "      <td>12</td>\n",
       "    </tr>\n",
       "    <tr>\n",
       "      <th>2</th>\n",
       "      <td>2023-04-12</td>\n",
       "      <td>Treasury General Account (TGA)</td>\n",
       "      <td>Deposits</td>\n",
       "      <td>USDA - Federal Crop Insurance Corp Fund</td>\n",
       "      <td>NaN</td>\n",
       "      <td>0</td>\n",
       "      <td>0</td>\n",
       "      <td>2817</td>\n",
       "      <td>II</td>\n",
       "      <td>Deposits and Withdrawals of Operating Cash</td>\n",
       "      <td>3</td>\n",
       "      <td>2023</td>\n",
       "      <td>3</td>\n",
       "      <td>2023</td>\n",
       "      <td>2</td>\n",
       "      <td>4</td>\n",
       "      <td>12</td>\n",
       "    </tr>\n",
       "    <tr>\n",
       "      <th>3</th>\n",
       "      <td>2023-04-12</td>\n",
       "      <td>Treasury General Account (TGA)</td>\n",
       "      <td>Deposits</td>\n",
       "      <td>USDA - Loan Repayments</td>\n",
       "      <td>NaN</td>\n",
       "      <td>13</td>\n",
       "      <td>143</td>\n",
       "      <td>3859</td>\n",
       "      <td>II</td>\n",
       "      <td>Deposits and Withdrawals of Operating Cash</td>\n",
       "      <td>4</td>\n",
       "      <td>2023</td>\n",
       "      <td>3</td>\n",
       "      <td>2023</td>\n",
       "      <td>2</td>\n",
       "      <td>4</td>\n",
       "      <td>12</td>\n",
       "    </tr>\n",
       "    <tr>\n",
       "      <th>4</th>\n",
       "      <td>2023-04-12</td>\n",
       "      <td>Treasury General Account (TGA)</td>\n",
       "      <td>Deposits</td>\n",
       "      <td>Dept of Commerce (DOC)</td>\n",
       "      <td>NaN</td>\n",
       "      <td>16</td>\n",
       "      <td>126</td>\n",
       "      <td>2356</td>\n",
       "      <td>II</td>\n",
       "      <td>Deposits and Withdrawals of Operating Cash</td>\n",
       "      <td>5</td>\n",
       "      <td>2023</td>\n",
       "      <td>3</td>\n",
       "      <td>2023</td>\n",
       "      <td>2</td>\n",
       "      <td>4</td>\n",
       "      <td>12</td>\n",
       "    </tr>\n",
       "  </tbody>\n",
       "</table>\n",
       "</div>"
      ],
      "text/plain": [
       "  Record Date                 Type of Account Transaction Type  \\\n",
       "0  2023-04-12  Treasury General Account (TGA)         Deposits   \n",
       "1  2023-04-12  Treasury General Account (TGA)         Deposits   \n",
       "2  2023-04-12  Treasury General Account (TGA)         Deposits   \n",
       "3  2023-04-12  Treasury General Account (TGA)         Deposits   \n",
       "4  2023-04-12  Treasury General Account (TGA)         Deposits   \n",
       "\n",
       "                      Transaction Category Transaction Category Description  \\\n",
       "0        Dept of Agriculture (USDA) - misc                              NaN   \n",
       "1      USDA - Commodity Credit Corporation                              NaN   \n",
       "2  USDA - Federal Crop Insurance Corp Fund                              NaN   \n",
       "3                   USDA - Loan Repayments                              NaN   \n",
       "4                   Dept of Commerce (DOC)                              NaN   \n",
       "\n",
       "   Transactions Today  Transactions Month to Date  \\\n",
       "0                  13                         107   \n",
       "1                  34                         291   \n",
       "2                   0                           0   \n",
       "3                  13                         143   \n",
       "4                  16                         126   \n",
       "\n",
       "   Transactions Fiscal Year to Date Table Number  \\\n",
       "0                              1885           II   \n",
       "1                              3950           II   \n",
       "2                              2817           II   \n",
       "3                              3859           II   \n",
       "4                              2356           II   \n",
       "\n",
       "                                   Table Name  Source Line Number  \\\n",
       "0  Deposits and Withdrawals of Operating Cash                   1   \n",
       "1  Deposits and Withdrawals of Operating Cash                   2   \n",
       "2  Deposits and Withdrawals of Operating Cash                   3   \n",
       "3  Deposits and Withdrawals of Operating Cash                   4   \n",
       "4  Deposits and Withdrawals of Operating Cash                   5   \n",
       "\n",
       "   Fiscal Year  Fiscal Quarter Number  Calendar Year  Calendar Quarter Number  \\\n",
       "0         2023                      3           2023                        2   \n",
       "1         2023                      3           2023                        2   \n",
       "2         2023                      3           2023                        2   \n",
       "3         2023                      3           2023                        2   \n",
       "4         2023                      3           2023                        2   \n",
       "\n",
       "   Calendar Month Number  Calendar Day Number  \n",
       "0                      4                   12  \n",
       "1                      4                   12  \n",
       "2                      4                   12  \n",
       "3                      4                   12  \n",
       "4                      4                   12  "
      ]
     },
     "execution_count": 16,
     "metadata": {},
     "output_type": "execute_result"
    }
   ],
   "source": [
    "treasury = pd.read_csv('data/daily_treasury.csv')\n",
    "treasury.head()"
   ]
  },
  {
   "attachments": {},
   "cell_type": "markdown",
   "metadata": {},
   "source": [
    "The data consists of information on daily Treausury transactions including date, account type, transaction type and category, and transaction numbers."
   ]
  },
  {
   "attachments": {},
   "cell_type": "markdown",
   "metadata": {},
   "source": [
    "### Visualize and Summarize"
   ]
  },
  {
   "attachments": {},
   "cell_type": "markdown",
   "metadata": {},
   "source": [
    "#### Missing values"
   ]
  },
  {
   "cell_type": "code",
   "execution_count": 17,
   "metadata": {},
   "outputs": [
    {
     "name": "stdout",
     "output_type": "stream",
     "text": [
      "<class 'pandas.core.frame.DataFrame'>\n",
      "RangeIndex: 142560 entries, 0 to 142559\n",
      "Data columns (total 17 columns):\n",
      " #   Column                            Non-Null Count   Dtype \n",
      "---  ------                            --------------   ----- \n",
      " 0   Record Date                       142560 non-null  object\n",
      " 1   Type of Account                   142560 non-null  object\n",
      " 2   Transaction Type                  142560 non-null  object\n",
      " 3   Transaction Category              142066 non-null  object\n",
      " 4   Transaction Category Description  9625 non-null    object\n",
      " 5   Transactions Today                142560 non-null  int64 \n",
      " 6   Transactions Month to Date        142560 non-null  int64 \n",
      " 7   Transactions Fiscal Year to Date  142560 non-null  int64 \n",
      " 8   Table Number                      142560 non-null  object\n",
      " 9   Table Name                        142560 non-null  object\n",
      " 10  Source Line Number                142560 non-null  int64 \n",
      " 11  Fiscal Year                       142560 non-null  int64 \n",
      " 12  Fiscal Quarter Number             142560 non-null  int64 \n",
      " 13  Calendar Year                     142560 non-null  int64 \n",
      " 14  Calendar Quarter Number           142560 non-null  int64 \n",
      " 15  Calendar Month Number             142560 non-null  int64 \n",
      " 16  Calendar Day Number               142560 non-null  int64 \n",
      "dtypes: int64(10), object(7)\n",
      "memory usage: 18.5+ MB\n"
     ]
    }
   ],
   "source": [
    "treasury.info()"
   ]
  },
  {
   "attachments": {},
   "cell_type": "markdown",
   "metadata": {},
   "source": [
    "There are only missing values in the \"Transaction Category Description\" column."
   ]
  },
  {
   "attachments": {},
   "cell_type": "markdown",
   "metadata": {},
   "source": [
    "#### Date"
   ]
  },
  {
   "cell_type": "code",
   "execution_count": 18,
   "metadata": {},
   "outputs": [],
   "source": [
    "# convert Record Date to datetime\n",
    "treasury['Record Date'] = pd.to_datetime(treasury['Record Date'], format='%Y-%m-%d')"
   ]
  },
  {
   "cell_type": "code",
   "execution_count": 19,
   "metadata": {},
   "outputs": [
    {
     "name": "stdout",
     "output_type": "stream",
     "text": [
      "Date range: 2018-04-13 to 2023-04-12\n"
     ]
    }
   ],
   "source": [
    "# Date range\n",
    "print('Date range:', \n",
    "      treasury['Record Date'].min().date(), \n",
    "      'to', \n",
    "      treasury['Record Date'].max().date())"
   ]
  },
  {
   "attachments": {},
   "cell_type": "markdown",
   "metadata": {},
   "source": [
    "Five years of data are included ending 2023-04-12."
   ]
  },
  {
   "attachments": {},
   "cell_type": "markdown",
   "metadata": {},
   "source": [
    "#### Type of Account"
   ]
  },
  {
   "cell_type": "code",
   "execution_count": 20,
   "metadata": {},
   "outputs": [
    {
     "name": "stdout",
     "output_type": "stream",
     "text": [
      "Number of types of accounts: 6\n",
      "\n",
      "\n",
      "Federal Reserve Account                       76192\n",
      "Treasury General Account (TGA)                63848\n",
      "Short-Term Cash Investments                    2017\n",
      "Treasury General Account Total Deposits         247\n",
      "Treasury General Account Total Withdrawals      247\n",
      "Other Withdrawals                                 9\n",
      "Name: Type of Account, dtype: int64\n"
     ]
    }
   ],
   "source": [
    "# Type counts\n",
    "type_counts = treasury['Type of Account'].value_counts()\n",
    "print('Number of types of accounts:', len(type_counts))\n",
    "print('\\n')\n",
    "print(type_counts)\n",
    "\n",
    "# Convert to category\n",
    "treasury['Type of Account'] = treasury['Type of Account'].astype('category')"
   ]
  },
  {
   "attachments": {},
   "cell_type": "markdown",
   "metadata": {},
   "source": [
    "#### Transaction Type"
   ]
  },
  {
   "cell_type": "code",
   "execution_count": 21,
   "metadata": {},
   "outputs": [
    {
     "name": "stdout",
     "output_type": "stream",
     "text": [
      "Withdrawals    85906\n",
      "Deposits       56654\n",
      "Name: Transaction Type, dtype: int64\n",
      "\n",
      "\n",
      "Withdrawals    0.602595\n",
      "Deposits       0.397405\n",
      "Name: Transaction Type, dtype: float64\n"
     ]
    }
   ],
   "source": [
    "# Transaction type counts\n",
    "print(treasury['Transaction Type'].value_counts())\n",
    "print('\\n')\n",
    "print(treasury['Transaction Type'].value_counts(normalize=True))\n",
    "\n",
    "# Convert to category\n",
    "treasury['Transaction Type'] = treasury['Transaction Type'].astype('category')"
   ]
  },
  {
   "attachments": {},
   "cell_type": "markdown",
   "metadata": {},
   "source": [
    "The only transaction types are \"Withdrawals\" and \"Deposits\". About 60% of the entries are for \"Withdrawals\" and 40% for \"Deposits\"."
   ]
  },
  {
   "attachments": {},
   "cell_type": "markdown",
   "metadata": {},
   "source": [
    "#### Transaction Category"
   ]
  },
  {
   "cell_type": "code",
   "execution_count": 22,
   "metadata": {},
   "outputs": [
    {
     "name": "stdout",
     "output_type": "stream",
     "text": [
      "Number of transaction categories: 192\n",
      "\n",
      "\n",
      "Other Withdrawals                                   5739\n",
      "Other Deposits                                      2452\n",
      "Housing and Urban Development programs              2058\n",
      "Justice Department programs                         2058\n",
      "Dept of Commerce (DOC)                              1718\n",
      "                                                    ... \n",
      "Military Active Duty Pay (EFT)                         1\n",
      "Interntl Security Assistance (DSCA)                    1\n",
      "Federal Crop Ins. Corp.                                1\n",
      "Agriculture                                            1\n",
      "ShTransfersCtohFederalmReserve Account (Table V)       1\n",
      "Name: Transaction Category, Length: 192, dtype: int64\n",
      "\n",
      "\n",
      "Fraction of transactions with no category specified: 0.057456509539842875\n"
     ]
    }
   ],
   "source": [
    "# Transaction category counts\n",
    "category_counts = treasury['Transaction Category'].value_counts()\n",
    "print('Number of transaction categories:', len(category_counts))\n",
    "print('\\n')\n",
    "print(category_counts)\n",
    "\n",
    "# Number of transactions with no category specified\n",
    "print('\\n')\n",
    "print('Fraction of transactions with no category specified:', \n",
    "      (category_counts['Other Withdrawals'] + category_counts['Other Deposits'])/treasury.shape[0])"
   ]
  },
  {
   "attachments": {},
   "cell_type": "markdown",
   "metadata": {},
   "source": [
    "There are 190 transaction categories not including \"Other Withdrawals\" and \"Other Deposits\" which are basically unspecified categories. \"Other Withdrawals\" or \"Other Deposits\" are used for about 5.7% of the data."
   ]
  },
  {
   "cell_type": "code",
   "execution_count": 23,
   "metadata": {},
   "outputs": [
    {
     "data": {
      "image/png": "[encoded data removed]",
      "text/plain": [
       "<Figure size 640x480 with 1 Axes>"
      ]
     },
     "metadata": {},
     "output_type": "display_data"
    }
   ],
   "source": [
    "# Plot the transaction category counts\n",
    "category_counts[2:].plot(kind='bar', xticks=[]);"
   ]
  },
  {
   "attachments": {},
   "cell_type": "markdown",
   "metadata": {},
   "source": [
    "#### Transaction Counts"
   ]
  },
  {
   "cell_type": "code",
   "execution_count": 24,
   "metadata": {},
   "outputs": [
    {
     "name": "stdout",
     "output_type": "stream",
     "text": [
      "Minimum number of transactions per day: 13505\n",
      "Maximum number of transactions per day: 1583265\n",
      "Median number of transactions per day: 157451.0\n"
     ]
    },
    {
     "data": {
      "image/png": "[encoded data removed]",
      "text/plain": [
       "<Figure size 640x480 with 1 Axes>"
      ]
     },
     "metadata": {},
     "output_type": "display_data"
    }
   ],
   "source": [
    "# Group by date and sum over Transactions Today\n",
    "transcation_counts = pd.DataFrame(treasury.groupby('Record Date')['Transactions Today'].sum())\n",
    "transcation_counts.reset_index(inplace=True)\n",
    "\n",
    "# Histogram of transactions per day\n",
    "transcation_counts['Transactions Today'].hist();\n",
    "plt.xlabel('Total number of transactions per day')\n",
    "plt.ylabel('Count');\n",
    "\n",
    "# Minimum and maximum number of transactions per day\n",
    "print('Minimum number of transactions per day:', transcation_counts['Transactions Today'].min())\n",
    "print('Maximum number of transactions per day:', transcation_counts['Transactions Today'].max())\n",
    "\n",
    "# Median number of transactions per day\n",
    "print('Median number of transactions per day:', transcation_counts['Transactions Today'].median())"
   ]
  },
  {
   "attachments": {},
   "cell_type": "markdown",
   "metadata": {},
   "source": [
    "The total number of transactions per day varies widely from about 13,000 up to about 1.5 million, but the distribution is right skewed and the median number of transactions is 157,451."
   ]
  },
  {
   "cell_type": "code",
   "execution_count": 25,
   "metadata": {},
   "outputs": [],
   "source": [
    "# Add month and year columns to transcation_counts\n",
    "transcation_counts['Month'] = transcation_counts['Record Date'].dt.month\n",
    "transcation_counts['Year'] = transcation_counts['Record Date'].dt.year\n",
    "\n",
    "# Group by month and year and sum\n",
    "transcation_counts_year_month = \\\n",
    "    transcation_counts.groupby(['Year', 'Month'])['Transactions Today'].sum()\n",
    "transcation_counts_year_month = transcation_counts_year_month.reset_index()\n",
    "transcation_counts_year_month.rename(\n",
    "    columns={'Transactions Today': 'Total Transactions'}, inplace=True)"
   ]
  },
  {
   "cell_type": "code",
   "execution_count": 26,
   "metadata": {},
   "outputs": [
    {
     "name": "stdout",
     "output_type": "stream",
     "text": [
      "Minimum average number of transactions per month: 4056869 in Oct\n",
      "Maximum average number of transactions per month: 4984250 in Mar\n"
     ]
    },
    {
     "data": {
      "image/png": "[encoded data removed]",
      "text/plain": [
       "<Figure size 640x480 with 1 Axes>"
      ]
     },
     "metadata": {},
     "output_type": "display_data"
    }
   ],
   "source": [
    "# Average number of transactions for each month\n",
    "transcation_counts_month = \\\n",
    "    transcation_counts_year_month.groupby('Month')['Total Transactions'].mean()\n",
    "transcation_counts_month = pd.DataFrame(transcation_counts_month)\n",
    "transcation_counts_month.reset_index(inplace=True)\n",
    "transcation_counts_month.rename(\n",
    "    columns={'Total Transactions': 'Average Transaction Count'}, inplace=True)\n",
    "transcation_counts_month['Month'] = [\n",
    "    calendar.month_abbr[i] for i in transcation_counts_month['Month']]\n",
    "transcation_counts_month\n",
    "\n",
    "# Plot total transactions per month\n",
    "transcation_counts_month.plot(\n",
    "    kind='bar', \n",
    "    x='Month', y='Average Transaction Count', \n",
    "    ylabel='Average Transaction Count', legend=None);\n",
    "\n",
    "# Minimum average number of transactions per month\n",
    "ind = transcation_counts_month['Average Transaction Count'].argmin()\n",
    "print('Minimum average number of transactions per month:', \n",
    "      round(transcation_counts_month['Average Transaction Count'].iloc[ind]), \n",
    "      'in', \n",
    "      transcation_counts_month['Month'].iloc[ind])\n",
    "\n",
    "# Maximum average number of transactions per month\n",
    "ind = transcation_counts_month['Average Transaction Count'].argmax()\n",
    "print('Maximum average number of transactions per month:',\n",
    "      round(transcation_counts_month['Average Transaction Count'].iloc[ind]),\n",
    "      'in',\n",
    "      transcation_counts_month['Month'].iloc[ind])"
   ]
  },
  {
   "attachments": {},
   "cell_type": "markdown",
   "metadata": {},
   "source": [
    "The distribution of the average transaction counts in a month is failry uniform. The minimum average number of transactions per month is about 4 million in October and the maximum average number of transactions per month is about 5 million in March."
   ]
  },
  {
   "cell_type": "code",
   "execution_count": 27,
   "metadata": {},
   "outputs": [
    {
     "name": "stdout",
     "output_type": "stream",
     "text": [
      "   Year  Total Transactions  Total Transactions Relative to 2019\n",
      "1  2019            32848981                             1.000000\n",
      "2  2020            49927375                             1.519906\n",
      "3  2021            51588309                             1.570469\n",
      "4  2022            86101698                             2.621138\n"
     ]
    },
    {
     "data": {
      "image/png": "[encoded data removed]",
      "text/plain": [
       "<Figure size 640x480 with 1 Axes>"
      ]
     },
     "metadata": {},
     "output_type": "display_data"
    }
   ],
   "source": [
    "# Number of transactions for each year\n",
    "transcation_counts_year = \\\n",
    "    transcation_counts_year_month.groupby('Year')['Total Transactions'].sum()\n",
    "transcation_counts_year = pd.DataFrame(transcation_counts_year)\n",
    "transcation_counts_year.reset_index(inplace=True)\n",
    "\n",
    "# Plot total transactions per year relative to 2019\n",
    "transcation_counts_year['Total Transactions Relative to 2019'] = transcation_counts_year['Total Transactions']/transcation_counts_year['Total Transactions'].iloc[1]\n",
    "\n",
    "transcation_counts_year.iloc[1:-1].plot(\n",
    "    kind='bar', x='Year', y='Total Transactions Relative to 2019', \n",
    "    ylabel='Total Transactions / 2019 Total Transactions', legend=None);\n",
    "\n",
    "print(transcation_counts_year.iloc[1:-1])"
   ]
  },
  {
   "attachments": {},
   "cell_type": "markdown",
   "metadata": {},
   "source": [
    "The above plot is for the calendar years where there is data for the whole year and shows that the total number of transactions increases every year. The total number of transactions increased by about 1.5 times in 2020 and 2021 compared to 2019. The total number of transactions increased by about 2.6 times in 2022 compared to 2019."
   ]
  },
  {
   "cell_type": "code",
   "execution_count": 28,
   "metadata": {},
   "outputs": [
    {
     "name": "stderr",
     "output_type": "stream",
     "text": [
      "/tmp/ipykernel_224396/3450268160.py:7: FutureWarning: The default value of regex will change from True to False in a future version.\n",
      "  treasury['Type of Account Abbr'] = treasury['Type of Account Abbr'].str.replace(\n"
     ]
    },
    {
     "name": "stdout",
     "output_type": "stream",
     "text": [
      "\n",
      "\n"
     ]
    },
    {
     "data": {
      "text/html": [
       "<div>\n",
       "<style scoped>\n",
       "    .dataframe tbody tr th:only-of-type {\n",
       "        vertical-align: middle;\n",
       "    }\n",
       "\n",
       "    .dataframe tbody tr th {\n",
       "        vertical-align: top;\n",
       "    }\n",
       "\n",
       "    .dataframe thead th {\n",
       "        text-align: right;\n",
       "    }\n",
       "</style>\n",
       "<table border=\"1\" class=\"dataframe\">\n",
       "  <thead>\n",
       "    <tr style=\"text-align: right;\">\n",
       "      <th></th>\n",
       "      <th>Type of Account Abbr</th>\n",
       "      <th>Median Daily Transaction Count</th>\n",
       "    </tr>\n",
       "  </thead>\n",
       "  <tbody>\n",
       "    <tr>\n",
       "      <th>0</th>\n",
       "      <td>Short-Term Cash Invest</td>\n",
       "      <td>0</td>\n",
       "    </tr>\n",
       "    <tr>\n",
       "      <th>1</th>\n",
       "      <td>Treasury General (TG)</td>\n",
       "      <td>13</td>\n",
       "    </tr>\n",
       "    <tr>\n",
       "      <th>2</th>\n",
       "      <td>Fed Reserve</td>\n",
       "      <td>50</td>\n",
       "    </tr>\n",
       "    <tr>\n",
       "      <th>3</th>\n",
       "      <td>Other Withdrawals</td>\n",
       "      <td>103</td>\n",
       "    </tr>\n",
       "    <tr>\n",
       "      <th>4</th>\n",
       "      <td>TG Total Deposits</td>\n",
       "      <td>47251</td>\n",
       "    </tr>\n",
       "    <tr>\n",
       "      <th>5</th>\n",
       "      <td>TG Total Withdrawals</td>\n",
       "      <td>59099</td>\n",
       "    </tr>\n",
       "  </tbody>\n",
       "</table>\n",
       "</div>"
      ],
      "text/plain": [
       "     Type of Account Abbr  Median Daily Transaction Count\n",
       "0  Short-Term Cash Invest                               0\n",
       "1   Treasury General (TG)                              13\n",
       "2             Fed Reserve                              50\n",
       "3       Other Withdrawals                             103\n",
       "4       TG Total Deposits                           47251\n",
       "5    TG Total Withdrawals                           59099"
      ]
     },
     "execution_count": 28,
     "metadata": {},
     "output_type": "execute_result"
    },
    {
     "data": {
      "image/png": "[encoded data removed]",
      "text/plain": [
       "<Figure size 500x500 with 1 Axes>"
      ]
     },
     "metadata": {},
     "output_type": "display_data"
    }
   ],
   "source": [
    "# Abbreviate the account types for plotting\n",
    "treasury['Type of Account Abbr'] = treasury['Type of Account']\n",
    "treasury['Type of Account Abbr'] = treasury['Type of Account Abbr'].str.replace(\n",
    "    'Federal Reserve Account', 'Fed Reserve')\n",
    "treasury['Type of Account Abbr'] = treasury['Type of Account Abbr'].str.replace(\n",
    "    'Short-Term Cash Investments', 'Short-Term Cash Invest')\n",
    "treasury['Type of Account Abbr'] = treasury['Type of Account Abbr'].str.replace(\n",
    "    'Treasury General Account \\(TGA\\)', 'Treasury General (TG)')\n",
    "treasury['Type of Account Abbr'] = treasury['Type of Account Abbr'].str.replace(\n",
    "    'Treasury General Account Total Deposits', 'TG Total Deposits')\n",
    "treasury['Type of Account Abbr'] = treasury['Type of Account Abbr'].str.replace(\n",
    "    'Treasury General Account Total Withdrawals', 'TG Total Withdrawals')\n",
    "\n",
    "# Box plots for the numbers of transactions for each type of account\n",
    "sns.catplot(\n",
    "    data=treasury, \n",
    "    x=\"Transactions Today\", y=\"Type of Account Abbr\", \n",
    "    kind=\"box\")\n",
    "plt.ylabel('Type of Account')\n",
    "plt.xticks([0, 200000, 400000]);\n",
    "\n",
    "# Median number of transactions for each type of account\n",
    "median_transaction_counts = \\\n",
    "    treasury.groupby('Type of Account Abbr')['Transactions Today'].median().sort_values()\n",
    "median_transaction_counts = pd.DataFrame(median_transaction_counts)\n",
    "median_transaction_counts.reset_index(inplace=True)\n",
    "median_transaction_counts.rename(\n",
    "    columns={'Transactions Today': 'Median Daily Transaction Count'}, inplace=True)\n",
    "median_transaction_counts['Median Daily Transaction Count'] = \\\n",
    "    median_transaction_counts['Median Daily Transaction Count'].astype('int')\n",
    "print('\\n')\n",
    "median_transaction_counts"
   ]
  },
  {
   "attachments": {},
   "cell_type": "markdown",
   "metadata": {},
   "source": [
    "The median numbers of transactions for \"TG Total Withdrawals\" and \"TG Total Deposits\" is much higher than for the other types of accounts."
   ]
  },
  {
   "attachments": {},
   "cell_type": "markdown",
   "metadata": {},
   "source": [
    "### Table Number"
   ]
  },
  {
   "cell_type": "code",
   "execution_count": 29,
   "metadata": {},
   "outputs": [
    {
     "data": {
      "text/plain": [
       "II    142560\n",
       "Name: Table Number, dtype: int64"
      ]
     },
     "execution_count": 29,
     "metadata": {},
     "output_type": "execute_result"
    }
   ],
   "source": [
    "treasury['Table Number'].value_counts()"
   ]
  },
  {
   "attachments": {},
   "cell_type": "markdown",
   "metadata": {},
   "source": [
    "All table numbers are \"II\"."
   ]
  },
  {
   "attachments": {},
   "cell_type": "markdown",
   "metadata": {},
   "source": [
    "### Summary"
   ]
  },
  {
   "attachments": {},
   "cell_type": "markdown",
   "metadata": {},
   "source": [
    "* Each entry in the table represents multiple transactions and the number of transactions is given in the \"Transactions Today\" column\n",
    "* Five years of data are included ending 2023-04-12\n",
    "* There are 6 types of accounts with uneven representation in the table\n",
    "  * Maximum of 76192 entries for \"Federal Reserve Account\"\n",
    "  * Minimum of 9 entries for Other Withdrawals\n",
    "* Most of the transactions (not entries) have \"Treasury General Account Total Deposits\" or \"Treasury General Account Total Withdrawals\" account types\n",
    "* About 60% of the table entries are of type \"Withdrawals\" and 40% are of type \"Deposits\".\n",
    "* There are many different values for \"Transaction Category\", with many having only a few entries.\n",
    "* The distribution of transaction counts across months is fairly uniform.\n",
    "* The number of transactions in 2020 and 2021 is about 1.5 times higher than in 2019 (pre-pandemic), while the number of transactions in 2022 is about 2.6 times higher than in 2019."
   ]
  }
 ],
 "metadata": {
  "kernelspec": {
   "display_name": "EDA_cleaning",
   "language": "python",
   "name": "python3"
  },
  "language_info": {
   "codemirror_mode": {
    "name": "ipython",
    "version": 3
   },
   "file_extension": ".py",
   "mimetype": "text/x-python",
   "name": "python",
   "nbconvert_exporter": "python",
   "pygments_lexer": "ipython3",
   "version": "3.11.4"
  },
  "orig_nbformat": 4
 },
 "nbformat": 4,
 "nbformat_minor": 2
}
